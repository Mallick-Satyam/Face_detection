{
 "cells": [
  {
   "cell_type": "code",
   "execution_count": 1,
   "id": "492698c2-46ba-4ad7-a520-2be08081e12f",
   "metadata": {},
   "outputs": [],
   "source": [
    "import cv2"
   ]
  },
  {
   "cell_type": "code",
   "execution_count": 2,
   "id": "4bca3868-6e5e-4a0d-bcd8-773e2375e131",
   "metadata": {},
   "outputs": [],
   "source": [
    "cap=cv2.VideoCapture(0)"
   ]
  },
  {
   "cell_type": "code",
   "execution_count": 3,
   "id": "820142d7-07b0-4e9a-9ee7-ea7ba2c7672f",
   "metadata": {},
   "outputs": [
    {
     "ename": "SyntaxError",
     "evalue": "unexpected EOF while parsing (<ipython-input-3-7abc45470d9b>, line 1)",
     "output_type": "error",
     "traceback": [
      "\u001b[1;36m  File \u001b[1;32m\"<ipython-input-3-7abc45470d9b>\"\u001b[1;36m, line \u001b[1;32m1\u001b[0m\n\u001b[1;33m    while True:\u001b[0m\n\u001b[1;37m               ^\u001b[0m\n\u001b[1;31mSyntaxError\u001b[0m\u001b[1;31m:\u001b[0m unexpected EOF while parsing\n"
     ]
    }
   ],
   "source": [
    "while True:"
   ]
  },
  {
   "cell_type": "code",
   "execution_count": null,
   "id": "fc067a1d-b630-4297-9c46-4d6dcc730e8c",
   "metadata": {},
   "outputs": [],
   "source": [
    "ret,frame=cap.read()"
   ]
  },
  {
   "cell_type": "code",
   "execution_count": null,
   "id": "86654220-e3aa-4a21-8d82-1e28fbc4cb3a",
   "metadata": {},
   "outputs": [],
   "source": [
    "if ret:\n",
    "cv2.imshow(\"my window\",frame)"
   ]
  },
  {
   "cell_type": "code",
   "execution_count": null,
   "id": "1d120f6b-c7ac-4fac-aaed-ee1189a263ed",
   "metadata": {},
   "outputs": [],
   "source": [
    "key=cv2.waitkey(1)"
   ]
  },
  {
   "cell_type": "code",
   "execution_count": null,
   "id": "2bc8b3de-7c01-49e6-8410-bd084221a7b3",
   "metadata": {},
   "outputs": [],
   "source": [
    "if key=ord(\"q\")"
   ]
  },
  {
   "cell_type": "code",
   "execution_count": null,
   "id": "1f29f4fb-d6ce-4411-8cea-5abbbd1f93ee",
   "metadata": {},
   "outputs": [],
   "source": [
    "break"
   ]
  },
  {
   "cell_type": "code",
   "execution_count": null,
   "id": "d06014ea-ddb3-4423-8c3f-9a1ba03948c2",
   "metadata": {},
   "outputs": [],
   "source": [
    "cap.release()\n",
    "cv2.destroyAllWindows()"
   ]
  },
  {
   "cell_type": "code",
   "execution_count": null,
   "id": "9fe7ee93-4f76-408c-b753-fb7a62bd94f2",
   "metadata": {},
   "outputs": [],
   "source": []
  }
 ],
 "metadata": {
  "kernelspec": {
   "display_name": "Python 3",
   "language": "python",
   "name": "python3"
  },
  "language_info": {
   "codemirror_mode": {
    "name": "ipython",
    "version": 3
   },
   "file_extension": ".py",
   "mimetype": "text/x-python",
   "name": "python",
   "nbconvert_exporter": "python",
   "pygments_lexer": "ipython3",
   "version": "3.8.8"
  }
 },
 "nbformat": 4,
 "nbformat_minor": 5
}
