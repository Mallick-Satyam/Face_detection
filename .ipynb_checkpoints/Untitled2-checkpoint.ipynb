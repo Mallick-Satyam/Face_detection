{
 "cells": [
  {
   "cell_type": "code",
   "execution_count": null,
   "id": "e890bf60-bf37-458b-9138-942c6e3edaf1",
   "metadata": {},
   "outputs": [],
   "source": [
    "lst=[]\n",
    "len=[]\n",
    "b=0\n",
    "ch=1\n",
    "while(ch==1):\n",
    "    ch=int(input(\"enter 1 to enter value or enter 2 end\"))\n",
    "    if(ch==2):\n",
    "        break\n",
    "    else:\n",
    "        a=int(input(\"enter the value\"))\n",
    "        lst.append(a)\n",
    "for i in lst:\n",
    "    k=lst[i]\n",
    "    for j in lst:\n",
    "        if(lst[j]==k):\n",
    "            len[b]=j-i\n",
    "            b++\n"
   ]
  }
 ],
 "metadata": {
  "kernelspec": {
   "display_name": "Python 3",
   "language": "python",
   "name": "python3"
  },
  "language_info": {
   "codemirror_mode": {
    "name": "ipython",
    "version": 3
   },
   "file_extension": ".py",
   "mimetype": "text/x-python",
   "name": "python",
   "nbconvert_exporter": "python",
   "pygments_lexer": "ipython3",
   "version": "3.8.8"
  }
 },
 "nbformat": 4,
 "nbformat_minor": 5
}
