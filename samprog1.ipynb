{
 "cells": [
  {
   "cell_type": "code",
   "execution_count": 1,
   "id": "4de27b44-e23e-4b31-b2b2-aeb3cdfd040a",
   "metadata": {},
   "outputs": [],
   "source": [
    "import numpy as np"
   ]
  },
  {
   "cell_type": "code",
   "execution_count": 2,
   "id": "23d3b65b-9f5e-436e-b748-3e36fc02c295",
   "metadata": {},
   "outputs": [],
   "source": [
    "it=[2,6,7,11]"
   ]
  },
  {
   "cell_type": "code",
   "execution_count": 3,
   "id": "1bdb378c-a331-4e6b-ab73-85617004ed47",
   "metadata": {},
   "outputs": [],
   "source": [
    "n=np.array(it)"
   ]
  },
  {
   "cell_type": "code",
   "execution_count": 4,
   "id": "3ad486b1-028d-4d19-bb4d-a5bd6aeeaeff",
   "metadata": {},
   "outputs": [
    {
     "data": {
      "text/plain": [
       "numpy.ndarray"
      ]
     },
     "execution_count": 4,
     "metadata": {},
     "output_type": "execute_result"
    }
   ],
   "source": [
    "type(n)"
   ]
  },
  {
   "cell_type": "code",
   "execution_count": 17,
   "id": "056ca061-3963-4c0a-b602-a91febe70235",
   "metadata": {},
   "outputs": [
    {
     "data": {
      "text/plain": [
       "(2, 3)"
      ]
     },
     "execution_count": 17,
     "metadata": {},
     "output_type": "execute_result"
    }
   ],
   "source": [
    "twod=np.array([[1,2,5],[3,4,5]])\n",
    "twod.shape"
   ]
  },
  {
   "cell_type": "code",
   "execution_count": 13,
   "id": "fcb51816-41da-41fe-b300-80ff2788cbda",
   "metadata": {},
   "outputs": [],
   "source": [
    "y=np.array([2,5,6,\"77\"])"
   ]
  },
  {
   "cell_type": "code",
   "execution_count": 14,
   "id": "03f577e1-cade-4f17-97c8-960785d8ff71",
   "metadata": {},
   "outputs": [
    {
     "data": {
      "text/plain": [
       "array(['2', '5', '6', '77'], dtype='<U11')"
      ]
     },
     "execution_count": 14,
     "metadata": {},
     "output_type": "execute_result"
    }
   ],
   "source": [
    "y"
   ]
  },
  {
   "cell_type": "code",
   "execution_count": 20,
   "id": "027675b8-75a9-465b-8763-a3006700d6c4",
   "metadata": {},
   "outputs": [
    {
     "data": {
      "text/plain": [
       "(2, 3)"
      ]
     },
     "execution_count": 20,
     "metadata": {},
     "output_type": "execute_result"
    }
   ],
   "source": [
    "twod.shape"
   ]
  },
  {
   "cell_type": "code",
   "execution_count": 19,
   "id": "f97e779b-0cb3-4901-9594-33b6dd1321aa",
   "metadata": {},
   "outputs": [
    {
     "data": {
      "text/plain": [
       "6"
      ]
     },
     "execution_count": 19,
     "metadata": {},
     "output_type": "execute_result"
    }
   ],
   "source": [
    "twod.size"
   ]
  },
  {
   "cell_type": "code",
   "execution_count": 28,
   "id": "dcefa40b-062b-4516-98a1-d6aef93c32ea",
   "metadata": {},
   "outputs": [
    {
     "data": {
      "text/plain": [
       "[0, 1, 2, 3, 4, 5, 6, 7, 8]"
      ]
     },
     "execution_count": 28,
     "metadata": {},
     "output_type": "execute_result"
    }
   ],
   "source": [
    "list(range(9))"
   ]
  },
  {
   "cell_type": "code",
   "execution_count": 24,
   "id": "a47bd81c-3cf4-4099-982c-69715898da3f",
   "metadata": {},
   "outputs": [
    {
     "data": {
      "text/plain": [
       "array([0, 1, 2, 3, 4, 5, 6])"
      ]
     },
     "execution_count": 24,
     "metadata": {},
     "output_type": "execute_result"
    }
   ],
   "source": [
    "np.arange(7)"
   ]
  },
  {
   "cell_type": "code",
   "execution_count": 25,
   "id": "dfccc95d-c390-41b8-8c68-3186145fa26d",
   "metadata": {},
   "outputs": [
    {
     "data": {
      "text/plain": [
       "array([ 7,  9, 11])"
      ]
     },
     "execution_count": 25,
     "metadata": {},
     "output_type": "execute_result"
    }
   ],
   "source": [
    "np.arange(7,12,2)"
   ]
  },
  {
   "cell_type": "code",
   "execution_count": 29,
   "id": "e9f1faf6-5f6e-42ee-a788-d1c3346df872",
   "metadata": {},
   "outputs": [
    {
     "data": {
      "text/plain": [
       "array([0, 1, 2, 3, 4, 5, 6])"
      ]
     },
     "execution_count": 29,
     "metadata": {},
     "output_type": "execute_result"
    }
   ],
   "source": [
    "np.array(range(7))"
   ]
  },
  {
   "cell_type": "code",
   "execution_count": 34,
   "id": "652218bd-a511-49f3-8776-90dda03fd2bd",
   "metadata": {},
   "outputs": [],
   "source": [
    "arr=np.arange(40)"
   ]
  },
  {
   "cell_type": "markdown",
   "id": "b9ba3ff3-fbf8-4e9b-a790-e157403f6045",
   "metadata": {},
   "source": []
  },
  {
   "cell_type": "code",
   "execution_count": 40,
   "id": "1d02dbf0-55f7-489a-8730-91037a091db5",
   "metadata": {},
   "outputs": [],
   "source": [
    "brr=arr.reshape(8,5)"
   ]
  },
  {
   "cell_type": "code",
   "execution_count": null,
   "id": "d1b28d6a-da2c-41ee-b935-256989a34ad0",
   "metadata": {},
   "outputs": [],
   "source": []
  },
  {
   "cell_type": "code",
   "execution_count": 37,
   "id": "72317cc1-9a10-4691-ac3f-0abe8b303e1d",
   "metadata": {},
   "outputs": [
    {
     "data": {
      "text/plain": [
       "array([ 0,  1,  2,  3,  4,  5,  6,  7,  8,  9, 10, 11, 12, 13, 14, 15, 16,\n",
       "       17, 18, 19, 20, 21, 22, 23, 24, 25, 26, 27, 28, 29, 30, 31, 32, 33,\n",
       "       34, 35, 36, 37, 38, 39])"
      ]
     },
     "execution_count": 37,
     "metadata": {},
     "output_type": "execute_result"
    }
   ],
   "source": [
    "arr"
   ]
  },
  {
   "cell_type": "code",
   "execution_count": 41,
   "id": "07b0f6c6-cbec-4688-b39b-fada093556a8",
   "metadata": {},
   "outputs": [],
   "source": [
    "arr[0]=1000"
   ]
  },
  {
   "cell_type": "code",
   "execution_count": 43,
   "id": "4bdbec5a-114c-4378-a81d-f842ce3f13e9",
   "metadata": {},
   "outputs": [
    {
     "data": {
      "text/plain": [
       "array([1000,    1,    2,    3,    4,    5,    6,    7,    8,    9,   10,\n",
       "         11,   12,   13,   14,   15,   16,   17,   18,   19,   20,   21,\n",
       "         22,   23,   24,   25,   26,   27,   28,   29,   30,   31,   32,\n",
       "         33,   34,   35,   36,   37,   38,   39])"
      ]
     },
     "execution_count": 43,
     "metadata": {},
     "output_type": "execute_result"
    }
   ],
   "source": [
    "arr"
   ]
  },
  {
   "cell_type": "code",
   "execution_count": 44,
   "id": "804d4577-0cac-4f9d-821e-2baf7a3a44b9",
   "metadata": {},
   "outputs": [
    {
     "data": {
      "text/plain": [
       "array([[1000,    1,    2,    3,    4],\n",
       "       [   5,    6,    7,    8,    9],\n",
       "       [  10,   11,   12,   13,   14],\n",
       "       [  15,   16,   17,   18,   19],\n",
       "       [  20,   21,   22,   23,   24],\n",
       "       [  25,   26,   27,   28,   29],\n",
       "       [  30,   31,   32,   33,   34],\n",
       "       [  35,   36,   37,   38,   39]])"
      ]
     },
     "execution_count": 44,
     "metadata": {},
     "output_type": "execute_result"
    }
   ],
   "source": [
    "brr"
   ]
  },
  {
   "cell_type": "code",
   "execution_count": 45,
   "id": "f1b66e11-6eb5-4593-a749-ced601748e8a",
   "metadata": {},
   "outputs": [
    {
     "data": {
      "text/plain": [
       "False"
      ]
     },
     "execution_count": 45,
     "metadata": {},
     "output_type": "execute_result"
    }
   ],
   "source": [
    "arr is brr"
   ]
  },
  {
   "cell_type": "code",
   "execution_count": null,
   "id": "322d62fe-989c-4834-86f8-518e7d24f709",
   "metadata": {},
   "outputs": [],
   "source": []
  }
 ],
 "metadata": {
  "kernelspec": {
   "display_name": "Python 3",
   "language": "python",
   "name": "python3"
  },
  "language_info": {
   "codemirror_mode": {
    "name": "ipython",
    "version": 3
   },
   "file_extension": ".py",
   "mimetype": "text/x-python",
   "name": "python",
   "nbconvert_exporter": "python",
   "pygments_lexer": "ipython3",
   "version": "3.8.8"
  }
 },
 "nbformat": 4,
 "nbformat_minor": 5
}
