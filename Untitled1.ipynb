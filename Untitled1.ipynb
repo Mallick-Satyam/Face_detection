{
 "cells": [
  {
   "cell_type": "code",
   "execution_count": 2,
   "id": "d394efd0-2543-451e-bc7b-8cec340680bc",
   "metadata": {},
   "outputs": [
    {
     "name": "stdout",
     "output_type": "stream",
     "text": [
      "PRESS 1 TO ENTER THE VALUES \n",
      " PRESS 2 TO END\n"
     ]
    },
    {
     "name": "stdin",
     "output_type": "stream",
     "text": [
      "enter the choice 1\n",
      "enter the value 2\n"
     ]
    },
    {
     "name": "stdout",
     "output_type": "stream",
     "text": [
      "PRESS 1 TO ENTER THE VALUES \n",
      " PRESS 2 TO END\n"
     ]
    },
    {
     "name": "stdin",
     "output_type": "stream",
     "text": [
      "enter the choice 1\n",
      "enter the value 3\n"
     ]
    },
    {
     "name": "stdout",
     "output_type": "stream",
     "text": [
      "PRESS 1 TO ENTER THE VALUES \n",
      " PRESS 2 TO END\n"
     ]
    },
    {
     "name": "stdin",
     "output_type": "stream",
     "text": [
      "enter the choice 1\n",
      "enter the value 4\n"
     ]
    },
    {
     "name": "stdout",
     "output_type": "stream",
     "text": [
      "PRESS 1 TO ENTER THE VALUES \n",
      " PRESS 2 TO END\n"
     ]
    },
    {
     "name": "stdin",
     "output_type": "stream",
     "text": [
      "enter the choice 1\n",
      "enter the value 5\n"
     ]
    },
    {
     "name": "stdout",
     "output_type": "stream",
     "text": [
      "PRESS 1 TO ENTER THE VALUES \n",
      " PRESS 2 TO END\n"
     ]
    },
    {
     "name": "stdin",
     "output_type": "stream",
     "text": [
      "enter the choice 1\n",
      "enter the value 6\n"
     ]
    },
    {
     "name": "stdout",
     "output_type": "stream",
     "text": [
      "PRESS 1 TO ENTER THE VALUES \n",
      " PRESS 2 TO END\n"
     ]
    },
    {
     "name": "stdin",
     "output_type": "stream",
     "text": [
      "enter the choice 1\n",
      "enter the value 7\n"
     ]
    },
    {
     "name": "stdout",
     "output_type": "stream",
     "text": [
      "PRESS 1 TO ENTER THE VALUES \n",
      " PRESS 2 TO END\n"
     ]
    },
    {
     "name": "stdin",
     "output_type": "stream",
     "text": [
      "enter the choice 1\n",
      "enter the value 8\n"
     ]
    },
    {
     "name": "stdout",
     "output_type": "stream",
     "text": [
      "PRESS 1 TO ENTER THE VALUES \n",
      " PRESS 2 TO END\n"
     ]
    },
    {
     "name": "stdin",
     "output_type": "stream",
     "text": [
      "enter the choice 1\n",
      "enter the value 9\n"
     ]
    },
    {
     "name": "stdout",
     "output_type": "stream",
     "text": [
      "PRESS 1 TO ENTER THE VALUES \n",
      " PRESS 2 TO END\n"
     ]
    },
    {
     "name": "stdin",
     "output_type": "stream",
     "text": [
      "enter the choice 1\n",
      "enter the value 10\n"
     ]
    },
    {
     "name": "stdout",
     "output_type": "stream",
     "text": [
      "PRESS 1 TO ENTER THE VALUES \n",
      " PRESS 2 TO END\n"
     ]
    },
    {
     "name": "stdin",
     "output_type": "stream",
     "text": [
      "enter the choice 1\n",
      "enter the value 11\n"
     ]
    },
    {
     "name": "stdout",
     "output_type": "stream",
     "text": [
      "PRESS 1 TO ENTER THE VALUES \n",
      " PRESS 2 TO END\n"
     ]
    },
    {
     "name": "stdin",
     "output_type": "stream",
     "text": [
      "enter the choice 1\n",
      "enter the value 21\n"
     ]
    },
    {
     "name": "stdout",
     "output_type": "stream",
     "text": [
      "PRESS 1 TO ENTER THE VALUES \n",
      " PRESS 2 TO END\n"
     ]
    },
    {
     "name": "stdin",
     "output_type": "stream",
     "text": [
      "enter the choice 1\n",
      "enter the value 45\n"
     ]
    },
    {
     "name": "stdout",
     "output_type": "stream",
     "text": [
      "PRESS 1 TO ENTER THE VALUES \n",
      " PRESS 2 TO END\n"
     ]
    },
    {
     "name": "stdin",
     "output_type": "stream",
     "text": [
      "enter the choice 2\n"
     ]
    },
    {
     "name": "stdout",
     "output_type": "stream",
     "text": [
      " THE VALUES ARE  [2, 3, 4, 5, 6, 7, 8, 9, 10, 11, 21, 45]\n"
     ]
    }
   ],
   "source": [
    "lst=[]\n",
    "ch=1\n",
    "while(ch==1):\n",
    "    print(\"PRESS 1 TO ENTER THE VALUES \\n PRESS 2 TO END\")\n",
    "    ch=int(input(\"enter the choice\"))\n",
    "    if ch==2:\n",
    "        break\n",
    "    else:\n",
    "        a=int(input(\"enter the value\"))\n",
    "        lst.append(a)\n",
    "print(\" THE VALUES ARE \",lst)\n"
   ]
  },
  {
   "cell_type": "code",
   "execution_count": null,
   "id": "65006629-186f-46fb-90c0-a4f8fa6ebf91",
   "metadata": {},
   "outputs": [],
   "source": []
  }
 ],
 "metadata": {
  "kernelspec": {
   "display_name": "Python 3",
   "language": "python",
   "name": "python3"
  },
  "language_info": {
   "codemirror_mode": {
    "name": "ipython",
    "version": 3
   },
   "file_extension": ".py",
   "mimetype": "text/x-python",
   "name": "python",
   "nbconvert_exporter": "python",
   "pygments_lexer": "ipython3",
   "version": "3.8.8"
  }
 },
 "nbformat": 4,
 "nbformat_minor": 5
}
